{
 "cells": [
  {
   "cell_type": "code",
   "execution_count": null,
   "id": "8e9209e0",
   "metadata": {},
   "outputs": [],
   "source": [
    "import pandas as pd\n",
    "import matplotlib.pyplot as plt\n",
    "import seaborn as sns\n",
    "import numpy as np\n",
    "\n",
    "import warnings \n",
    "warnings.filterwarnings('ignore')\n",
    "\n",
    "from sklearn.linear_model import LogisticRegression\n",
    "from sklearn.preprocessing import LabelEncoder\n",
    "from sklearn.model_selection import train_test_split\n",
    "from sklearn.preprocessing import StandardScaler\n",
    "from sklearn.metrics import accuracy_score, confusion_matrix, classification_report"
   ]
  },
  {
   "cell_type": "code",
   "execution_count": null,
   "id": "24879aac",
   "metadata": {},
   "outputs": [],
   "source": [
    "df= pd.read_csv(\"Chronic Kidney Disease Dataset.csv\")"
   ]
  },
  {
   "cell_type": "code",
   "execution_count": null,
   "id": "910677f1",
   "metadata": {},
   "outputs": [],
   "source": [
    "df1 = df[: 8819]"
   ]
  },
  {
   "cell_type": "code",
   "execution_count": null,
   "id": "a19da427",
   "metadata": {},
   "outputs": [],
   "source": [
    "df1.head()"
   ]
  },
  {
   "cell_type": "code",
   "execution_count": null,
   "id": "9e466a86",
   "metadata": {},
   "outputs": [],
   "source": [
    "df1.tail()"
   ]
  },
  {
   "cell_type": "code",
   "execution_count": null,
   "id": "fbef214d",
   "metadata": {},
   "outputs": [],
   "source": [
    "df1.info()"
   ]
  },
  {
   "cell_type": "code",
   "execution_count": null,
   "id": "8a3bb857",
   "metadata": {},
   "outputs": [],
   "source": [
    "df1.shape"
   ]
  },
  {
   "cell_type": "code",
   "execution_count": null,
   "id": "8f9ead0e",
   "metadata": {},
   "outputs": [],
   "source": [
    "df1.columns"
   ]
  },
  {
   "cell_type": "code",
   "execution_count": null,
   "id": "d838fdb6",
   "metadata": {
    "scrolled": true
   },
   "outputs": [],
   "source": [
    "df1.describe()"
   ]
  },
  {
   "cell_type": "code",
   "execution_count": null,
   "id": "70f26dec",
   "metadata": {},
   "outputs": [],
   "source": [
    "df1.isnull().sum()"
   ]
  },
  {
   "cell_type": "code",
   "execution_count": null,
   "id": "4833875a",
   "metadata": {},
   "outputs": [],
   "source": [
    "df1.corr()"
   ]
  },
  {
   "cell_type": "code",
   "execution_count": null,
   "id": "01f56922",
   "metadata": {},
   "outputs": [],
   "source": [
    "plt.figure(figsize =(20,12), dpi=200)\n",
    "sns.heatmap(df1.corr(),cmap =\"PiYG\", annot = True)"
   ]
  },
  {
   "cell_type": "code",
   "execution_count": null,
   "id": "f2d72fd9",
   "metadata": {},
   "outputs": [],
   "source": [
    "cat_cols = [\"Female\",\"Racegrp\",\"Educ\",\"Unmarried\",\"Income\",\"CareSource\",\"Insured\",\"Obese\",\"Dyslipidemia\",\"PVD\",\"Activity\",\n",
    "            \"PoorVision\",\"Smoker\",\"Hypertension\",\"Fam Hypertension\",\"Diabetes\",\"Fam Diabetes\",\"Stroke\",\"CVD\",\"Fam CVD\",\n",
    "            \"CHF\",\"Anemia\",\"CKD\"]\n",
    "num_cols = [\"Age\",\"Weight\",\"Height\",\"BMI\",\"Waist\",\"SBP\",\"DBP\",\"HDL\",\"LDL\",\"Total Chol\"]"
   ]
  },
  {
   "cell_type": "code",
   "execution_count": null,
   "id": "2b3052ba",
   "metadata": {},
   "outputs": [],
   "source": [
    "df1[cat_cols]"
   ]
  },
  {
   "cell_type": "code",
   "execution_count": null,
   "id": "12f31b2b",
   "metadata": {},
   "outputs": [],
   "source": [
    "df1[num_cols]"
   ]
  },
  {
   "cell_type": "code",
   "execution_count": null,
   "id": "e0e99863",
   "metadata": {},
   "outputs": [],
   "source": [
    "df1[num_cols].corr()"
   ]
  },
  {
   "cell_type": "code",
   "execution_count": null,
   "id": "93df6c90",
   "metadata": {},
   "outputs": [],
   "source": [
    "plt.figure(figsize =(10,6), dpi=200)\n",
    "sns.heatmap(df1[num_cols].corr(),cmap =\"PiYG\", annot = True)"
   ]
  },
  {
   "cell_type": "code",
   "execution_count": null,
   "id": "63823477",
   "metadata": {},
   "outputs": [],
   "source": [
    "plt.figure(figsize =(20,12), dpi=200)\n",
    "sns.heatmap(df1[cat_cols].corr(),cmap =\"PiYG\", annot = True)"
   ]
  },
  {
   "cell_type": "code",
   "execution_count": null,
   "id": "8feaaa63",
   "metadata": {},
   "outputs": [],
   "source": [
    "sns.histplot(data=df1, x = 'Age', bins=20, kde=True, edgecolor='black')\n",
    "plt.show()"
   ]
  },
  {
   "cell_type": "code",
   "execution_count": null,
   "id": "61d9b395",
   "metadata": {},
   "outputs": [],
   "source": [
    "sns.histplot(data=df1, x = 'Weight', bins=20, kde=True, edgecolor='black')\n",
    "plt.show()"
   ]
  },
  {
   "cell_type": "code",
   "execution_count": null,
   "id": "ddf8ea18",
   "metadata": {},
   "outputs": [],
   "source": [
    "sns.histplot(data=df1, x = 'Height', bins=20, kde=True, edgecolor='black')\n",
    "plt.show()"
   ]
  },
  {
   "cell_type": "code",
   "execution_count": null,
   "id": "8afa64be",
   "metadata": {},
   "outputs": [],
   "source": [
    "sns.histplot(data=df1, x = 'BMI', bins=20, kde=True, edgecolor='black')\n",
    "plt.show()"
   ]
  },
  {
   "cell_type": "code",
   "execution_count": null,
   "id": "dc30fe3b",
   "metadata": {},
   "outputs": [],
   "source": [
    "sns.histplot(data=df1, x = 'Waist', bins=20, kde=True, edgecolor='black')\n",
    "plt.show()"
   ]
  },
  {
   "cell_type": "code",
   "execution_count": null,
   "id": "aa650caa",
   "metadata": {},
   "outputs": [],
   "source": [
    "sns.histplot(data=df1, x = 'SBP', bins=20, kde=True, edgecolor='black')\n",
    "plt.show()"
   ]
  },
  {
   "cell_type": "code",
   "execution_count": null,
   "id": "34ffdd5f",
   "metadata": {},
   "outputs": [],
   "source": [
    "sns.histplot(data=df1, x = 'DBP', bins=20, kde=True, edgecolor='black')\n",
    "plt.show()"
   ]
  },
  {
   "cell_type": "code",
   "execution_count": null,
   "id": "2d4f415d",
   "metadata": {},
   "outputs": [],
   "source": [
    "sns.histplot(data=df1, x = 'HDL', bins=20, kde=True, edgecolor='black')\n",
    "plt.show()"
   ]
  },
  {
   "cell_type": "code",
   "execution_count": null,
   "id": "01353886",
   "metadata": {},
   "outputs": [],
   "source": [
    "sns.histplot(data=df1, x = 'LDL', bins=20, kde=True, edgecolor='black')\n",
    "plt.show()"
   ]
  },
  {
   "cell_type": "code",
   "execution_count": null,
   "id": "f624e996",
   "metadata": {},
   "outputs": [],
   "source": [
    "sns.histplot(data=df1, x = 'Total Chol', bins=20, kde=True, edgecolor='black')\n",
    "plt.show()"
   ]
  },
  {
   "cell_type": "code",
   "execution_count": null,
   "id": "e95bee7a",
   "metadata": {},
   "outputs": [],
   "source": [
    "from scipy.stats import chi2_contingency\n",
    "# Chi square test for the categorical variables\n",
    "\n",
    "def get_chi_sq(row, column, df1):  \n",
    "\n",
    "    # plot the graph for the data passed\n",
    "    fig = plt.figure()\n",
    "    ax = fig.add_subplot(111)\n",
    "    sns.countplot(data=df1, x=row, hue=column)  \n",
    "    plt.xlabel(row)\n",
    "    plt.ylabel('Count')\n",
    "    plt.show()\n",
    "    # doing this to keep from opening too many figs at once (eats memory)\n",
    "    plt.close(fig);\n",
    "      \n",
    "    # create cross-tabulation\n",
    "    xtab = pd.crosstab(df1[row], df1[column], margins = False)   \n",
    "    print('observed data:\\n', xtab)\n",
    "    \n",
    "    # Chi-square contingency table\n",
    "    chi2, p_value, dof, expected = chi2_contingency(xtab, correction = False)\n",
    "    print('expected data:\\n', expected)\n",
    "    print('chi-squared value: {:.4f} for {:.0f} dof; p-value = {:.4f}\\n'.format(chi2, dof, p_value))"
   ]
  },
  {
   "cell_type": "code",
   "execution_count": null,
   "id": "5999905a",
   "metadata": {
    "scrolled": true
   },
   "outputs": [],
   "source": [
    "# for every category column, doing the Chi-sq test\n",
    "for cat_var in cat_cols:\n",
    "  get_chi_sq(cat_var, 'CKD', df1) "
   ]
  },
  {
   "cell_type": "code",
   "execution_count": null,
   "id": "15c575f1",
   "metadata": {},
   "outputs": [],
   "source": [
    "#ct_table_ind=pd.crosstab(df[\"Female\"],df[\"CKD\"])\n",
    "#print('contingency_table :\\n',ct_table_ind)"
   ]
  },
  {
   "cell_type": "code",
   "execution_count": null,
   "id": "217cbb32",
   "metadata": {},
   "outputs": [],
   "source": [
    "#import scipy.stats\n",
    "#from scipy.stats import chi2_contingency\n",
    "#chi2_stat, p, dof, expected = scipy.stats.chi2_contingency(ct_table_ind)\n",
    " \n",
    "#print(f\"chi2 statistic:     {chi2_stat:.5g}\")\n",
    "#print(f\"p-value:            {p:.5g}\")\n",
    "#print(f\"degrees of freedom: {dof}\")\n",
    "#print(\"expected frequencies:\\n\",expected)"
   ]
  },
  {
   "cell_type": "code",
   "execution_count": null,
   "id": "35073335",
   "metadata": {},
   "outputs": [],
   "source": [
    "df_n = [\"Age\",\"Racegrp\",\"Income\",\"CareSource\",\"Insured\",\"BMI\",\"HDL\",\"Total Chol\",\"PVD\",\"Activity\",\n",
    "            \"PoorVision\",\"Hypertension\",\"Diabetes\",\"Stroke\",\"CVD\",\"CHF\",\"CKD\"]"
   ]
  },
  {
   "cell_type": "code",
   "execution_count": null,
   "id": "e9e72199",
   "metadata": {},
   "outputs": [],
   "source": [
    "dff = df1[df_n]"
   ]
  },
  {
   "cell_type": "code",
   "execution_count": null,
   "id": "53725b31",
   "metadata": {},
   "outputs": [],
   "source": [
    "dff['Racegrp'].unique()"
   ]
  },
  {
   "cell_type": "code",
   "execution_count": null,
   "id": "f1c9de93",
   "metadata": {},
   "outputs": [],
   "source": [
    "dff[\"CareSource\"].unique()"
   ]
  },
  {
   "cell_type": "code",
   "execution_count": null,
   "id": "61d45291",
   "metadata": {},
   "outputs": [],
   "source": [
    "dff.shape"
   ]
  },
  {
   "cell_type": "code",
   "execution_count": null,
   "id": "ac169069",
   "metadata": {},
   "outputs": [],
   "source": [
    "dff = dff[dff['CareSource'] != ' ']"
   ]
  },
  {
   "cell_type": "code",
   "execution_count": null,
   "id": "984edd94",
   "metadata": {},
   "outputs": [],
   "source": [
    "a = [\"Racegrp\",\"CareSource\"]\n",
    "a"
   ]
  },
  {
   "cell_type": "code",
   "execution_count": null,
   "id": "befc8b41",
   "metadata": {},
   "outputs": [],
   "source": [
    "l = LabelEncoder()\n",
    "for i in a:\n",
    "    dff[i]=l.fit_transform(dff[i])\n",
    "dff"
   ]
  },
  {
   "cell_type": "code",
   "execution_count": null,
   "id": "ba55939f",
   "metadata": {},
   "outputs": [],
   "source": [
    "dff['Racegrp'].unique()"
   ]
  },
  {
   "cell_type": "code",
   "execution_count": null,
   "id": "c3cef5db",
   "metadata": {},
   "outputs": [],
   "source": [
    "dff['CareSource'].unique()"
   ]
  },
  {
   "cell_type": "code",
   "execution_count": null,
   "id": "05291e2c",
   "metadata": {},
   "outputs": [],
   "source": [
    "dff.head(2)"
   ]
  },
  {
   "cell_type": "code",
   "execution_count": null,
   "id": "938b978d",
   "metadata": {},
   "outputs": [],
   "source": [
    "dummies = pd.get_dummies(dff.Activity, prefix = 'act')\n",
    "dummies"
   ]
  },
  {
   "cell_type": "code",
   "execution_count": null,
   "id": "26bad94a",
   "metadata": {},
   "outputs": [],
   "source": [
    "type(dummies)"
   ]
  },
  {
   "cell_type": "code",
   "execution_count": null,
   "id": "b2df0d4b",
   "metadata": {},
   "outputs": [],
   "source": [
    "a1 = dff[\"CKD\"]\n",
    "a1"
   ]
  },
  {
   "cell_type": "code",
   "execution_count": null,
   "id": "9673d2f0",
   "metadata": {},
   "outputs": [],
   "source": []
  },
  {
   "cell_type": "code",
   "execution_count": null,
   "id": "417b96ed",
   "metadata": {},
   "outputs": [],
   "source": [
    "con_cat = pd.concat([dff, dummies], axis =1)\n",
    "con_cat"
   ]
  },
  {
   "cell_type": "code",
   "execution_count": null,
   "id": "a81688fb",
   "metadata": {},
   "outputs": [],
   "source": [
    "final = con_cat.drop(columns=[\"Activity\"])\n",
    "final"
   ]
  },
  {
   "cell_type": "code",
   "execution_count": null,
   "id": "39bdd53f",
   "metadata": {},
   "outputs": [],
   "source": [
    "#ct_table_ind=pd.crosstab(df[\"Female\"],df[\"CKD\"])\n",
    "#print('contingency_table :\\n',ct_table_ind)"
   ]
  },
  {
   "cell_type": "code",
   "execution_count": null,
   "id": "5d2d7bbc",
   "metadata": {},
   "outputs": [],
   "source": [
    "#Act_ckd = [\"act_1.0\",\"act_2.0\",\"act_3.0\",\"act_4.0\"]\n",
    "#Act_ckd"
   ]
  },
  {
   "cell_type": "code",
   "execution_count": null,
   "id": "a394da8d",
   "metadata": {},
   "outputs": [],
   "source": [
    "#final"
   ]
  },
  {
   "cell_type": "code",
   "execution_count": null,
   "id": "706a5999",
   "metadata": {},
   "outputs": [],
   "source": [
    "final['act_1.0']"
   ]
  },
  {
   "cell_type": "code",
   "execution_count": null,
   "id": "3d5f2dcf",
   "metadata": {},
   "outputs": [],
   "source": [
    "#final.rename(columns= {'1.0': 'Act1', '2.0': 'Act2', '3.0': 'Act3', '4.0': 'Act4'}, inplace=True)\n",
    "final.rename(columns= {\"act_1.0\": \"Act1\", 'act_2.0': 'Act2', 'act_3.0': 'Act3', 'act_4.0': 'Act4'}, inplace=True)\n",
    "final"
   ]
  },
  {
   "cell_type": "code",
   "execution_count": null,
   "id": "22e96d2c",
   "metadata": {},
   "outputs": [],
   "source": [
    "Act_ckd = [\"Act1\",\"Act2\",\"Act3\",\"Act4\"]\n",
    "Act_ckd"
   ]
  },
  {
   "cell_type": "code",
   "execution_count": null,
   "id": "48008f1f",
   "metadata": {},
   "outputs": [],
   "source": [
    "from scipy.stats import chi2_contingency\n",
    "# Chi square test for the categorical variables\n",
    "\n",
    "def get_chi_sq(row, column, final):  \n",
    "\n",
    "    # plot the graph for the data passed\n",
    "    fig = plt.figure()\n",
    "    ax = fig.add_subplot(111)\n",
    "    sns.countplot(data=final, x=row, hue=column)  \n",
    "    plt.xlabel(row)\n",
    "    plt.ylabel('Count')\n",
    "    plt.show()\n",
    "    # doing this to keep from opening too many figs at once (eats memory)\n",
    "    plt.close(fig);\n",
    "      \n",
    "    # create cross-tabulation\n",
    "    xtab = pd.crosstab(final[row], final[column], margins = False)   \n",
    "    print('observed data:\\n', xtab)\n",
    "    \n",
    "    # Chi-square contingency table\n",
    "    chi2, p_value, dof, expected = chi2_contingency(xtab, correction = False)\n",
    "    print('expected data:\\n', expected)\n",
    "    print('chi-squared value: {:.4f} for {:.0f} dof; p-value = {:.4f}\\n'.format(chi2, dof, p_value))"
   ]
  },
  {
   "cell_type": "code",
   "execution_count": null,
   "id": "568d5e12",
   "metadata": {},
   "outputs": [],
   "source": [
    "# for every category column, doing the Chi-sq test\n",
    "for cat_var1 in Act_ckd:\n",
    "  get_chi_sq(cat_var1, 'CKD', final) "
   ]
  },
  {
   "cell_type": "code",
   "execution_count": null,
   "id": "1697483f",
   "metadata": {},
   "outputs": [],
   "source": [
    "final1 = final.drop(columns=[\"Act2\"])\n",
    "final1"
   ]
  },
  {
   "cell_type": "code",
   "execution_count": null,
   "id": "c93b19a8",
   "metadata": {
    "scrolled": true
   },
   "outputs": [],
   "source": [
    "final1.isnull().sum()"
   ]
  },
  {
   "cell_type": "code",
   "execution_count": null,
   "id": "ed757c76",
   "metadata": {},
   "outputs": [],
   "source": [
    "final1.shape"
   ]
  },
  {
   "cell_type": "code",
   "execution_count": null,
   "id": "7d696e83",
   "metadata": {},
   "outputs": [],
   "source": [
    "Train = final1[:5997]\n",
    "Train"
   ]
  },
  {
   "cell_type": "code",
   "execution_count": null,
   "id": "88c0f859",
   "metadata": {},
   "outputs": [],
   "source": [
    "Train.isnull().sum()"
   ]
  },
  {
   "cell_type": "code",
   "execution_count": null,
   "id": "7285ee60",
   "metadata": {},
   "outputs": [],
   "source": [
    "Train.dropna(inplace = True)"
   ]
  },
  {
   "cell_type": "code",
   "execution_count": null,
   "id": "d1fa8a7a",
   "metadata": {},
   "outputs": [],
   "source": [
    "Train.isna().sum()"
   ]
  },
  {
   "cell_type": "code",
   "execution_count": null,
   "id": "5705d5a4",
   "metadata": {},
   "outputs": [],
   "source": [
    "Train.shape"
   ]
  },
  {
   "cell_type": "code",
   "execution_count": null,
   "id": "16cb9cb9",
   "metadata": {
    "scrolled": true
   },
   "outputs": [],
   "source": [
    "Test = final1[5998:]\n",
    "Test"
   ]
  },
  {
   "cell_type": "code",
   "execution_count": null,
   "id": "2c69704b",
   "metadata": {},
   "outputs": [],
   "source": [
    "Test.shape"
   ]
  },
  {
   "cell_type": "code",
   "execution_count": null,
   "id": "bec7f9f6",
   "metadata": {},
   "outputs": [],
   "source": [
    "Test.isnull().sum()"
   ]
  },
  {
   "cell_type": "code",
   "execution_count": null,
   "id": "d2a8d010",
   "metadata": {},
   "outputs": [],
   "source": [
    "Test.shape"
   ]
  },
  {
   "cell_type": "code",
   "execution_count": null,
   "id": "f54b2f8b",
   "metadata": {},
   "outputs": [],
   "source": [
    "X_Test = Test.drop(['CKD'], axis= 1)"
   ]
  },
  {
   "cell_type": "code",
   "execution_count": null,
   "id": "9e294395",
   "metadata": {},
   "outputs": [],
   "source": [
    "X_Test.shape"
   ]
  },
  {
   "cell_type": "code",
   "execution_count": null,
   "id": "bab844da",
   "metadata": {},
   "outputs": [],
   "source": [
    "X_Test.dropna(inplace = True)"
   ]
  },
  {
   "cell_type": "code",
   "execution_count": null,
   "id": "986d0813",
   "metadata": {},
   "outputs": [],
   "source": [
    "X_Test.shape"
   ]
  },
  {
   "cell_type": "code",
   "execution_count": null,
   "id": "ecc08934",
   "metadata": {},
   "outputs": [],
   "source": [
    "Train.shape"
   ]
  },
  {
   "cell_type": "code",
   "execution_count": null,
   "id": "c8b95d37",
   "metadata": {},
   "outputs": [],
   "source": [
    "X_train = Train.drop(['CKD'], axis = 1)\n",
    "y_train = Train['CKD']"
   ]
  },
  {
   "cell_type": "code",
   "execution_count": null,
   "id": "21e93f75",
   "metadata": {},
   "outputs": [],
   "source": [
    "sc = StandardScaler()\n",
    "X_train = sc.fit_transform(X_train)\n",
    "X_test = sc.fit_transform(X_Test)"
   ]
  },
  {
   "cell_type": "code",
   "execution_count": null,
   "id": "562f0720",
   "metadata": {},
   "outputs": [],
   "source": [
    "lr = LogisticRegression()\n",
    "lr.fit(X_train, y_train)"
   ]
  },
  {
   "cell_type": "code",
   "execution_count": null,
   "id": "1944d545",
   "metadata": {},
   "outputs": [],
   "source": [
    "lr_acc = accuracy_score(y_train, lr.predict(X_train))\n",
    "print(f\"Accuracy Score is {lr_acc}\")"
   ]
  },
  {
   "cell_type": "code",
   "execution_count": null,
   "id": "736c3569",
   "metadata": {},
   "outputs": [],
   "source": [
    "y_pred = lr.predict(X_test)"
   ]
  },
  {
   "cell_type": "code",
   "execution_count": null,
   "id": "09d49a52",
   "metadata": {},
   "outputs": [],
   "source": [
    "y_pred_df = pd.DataFrame(y_pred) "
   ]
  },
  {
   "cell_type": "code",
   "execution_count": null,
   "id": "c754fb06",
   "metadata": {},
   "outputs": [],
   "source": [
    "y_pred_df"
   ]
  },
  {
   "cell_type": "code",
   "execution_count": null,
   "id": "d866acf6",
   "metadata": {},
   "outputs": [],
   "source": [
    "y_pred_df[0].unique()"
   ]
  }
 ],
 "metadata": {
  "kernelspec": {
   "display_name": "Python 3 (ipykernel)",
   "language": "python",
   "name": "python3"
  },
  "language_info": {
   "codemirror_mode": {
    "name": "ipython",
    "version": 3
   },
   "file_extension": ".py",
   "mimetype": "text/x-python",
   "name": "python",
   "nbconvert_exporter": "python",
   "pygments_lexer": "ipython3",
   "version": "3.9.7"
  }
 },
 "nbformat": 4,
 "nbformat_minor": 5
}
